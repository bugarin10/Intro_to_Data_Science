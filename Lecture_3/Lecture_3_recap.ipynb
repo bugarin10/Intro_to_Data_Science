{
 "cells": [
  {
   "cell_type": "markdown",
   "id": "c86bcd80",
   "metadata": {},
   "source": [
    "# Lecture 2: Part 2\n",
    "\n",
    "En esta sesión seguiremos explorando datos y veremos los sentencias importantes de la programación y su sintáxis <strong>for, if-elif-else, while,do-while </strong> y las <strong>funciones</strong>."
   ]
  },
  {
   "cell_type": "code",
   "execution_count": 49,
   "id": "44325b97",
   "metadata": {},
   "outputs": [],
   "source": [
    "import pandas as pd\n",
    "import numpy as np\n",
    "import matplotlib.pyplot as plt\n",
    "import seaborn as sns\n",
    "import os\n",
    "pd.set_option('display.float_format', '{:20,.2f}'.format)"
   ]
  },
  {
   "cell_type": "markdown",
   "id": "142c3416",
   "metadata": {},
   "source": [
    "Los datos observados pueden divirse en categóricos (ordinal, nominal) y numéricos (discreto y continuo).\n",
    "\n",
    "Por ejemplo, categoricos nominal puede ser el Sexo legal de los individuos, ordinal pueden ser el orden de llegada al banco, etc."
   ]
  },
  {
   "cell_type": "markdown",
   "id": "2477117e",
   "metadata": {},
   "source": [
    "## For loop\n",
    "\n",
    "For es un comando para repetir N veces una instrucción.\n",
    "Por ejemplo, si queremos imprimir los números del 1 al 10, hacemos lo siguiente:"
   ]
  },
  {
   "cell_type": "code",
   "execution_count": 18,
   "id": "3523102d",
   "metadata": {},
   "outputs": [
    {
     "name": "stdout",
     "output_type": "stream",
     "text": [
      "1\n",
      "2\n",
      "3\n",
      "4\n"
     ]
    }
   ],
   "source": [
    "for i in range(1,5):\n",
    "    print(i)"
   ]
  },
  {
   "cell_type": "markdown",
   "id": "5354be98",
   "metadata": {},
   "source": [
    "varias cosas nuevas que vale la pena remarcar:\n",
    "    <ol> \n",
    "    <li>Valores identados después de los \":\"</li>\n",
    "    <li> el uso de range ¿qué es?</li>\n",
    "    <li><strong>for</strong> trabaja sobre listas, tuplas, diccionarios, conjuntos y cadenas</li>\n",
    "    </ol>\n",
    "    \n",
    "Veámos algunos otros ejemplos:"
   ]
  },
  {
   "cell_type": "code",
   "execution_count": 3,
   "id": "e6320bfb",
   "metadata": {},
   "outputs": [
    {
     "data": {
      "text/plain": [
       "range"
      ]
     },
     "execution_count": 3,
     "metadata": {},
     "output_type": "execute_result"
    }
   ],
   "source": [
    "type(range(10))"
   ]
  },
  {
   "cell_type": "code",
   "execution_count": 5,
   "id": "5589f099",
   "metadata": {},
   "outputs": [
    {
     "data": {
      "text/plain": [
       "[0, 2, 4, 6, 8]"
      ]
     },
     "execution_count": 5,
     "metadata": {},
     "output_type": "execute_result"
    }
   ],
   "source": [
    "list(range(0,10,2))"
   ]
  },
  {
   "cell_type": "code",
   "execution_count": 2,
   "id": "acecb99d",
   "metadata": {},
   "outputs": [
    {
     "name": "stdout",
     "output_type": "stream",
     "text": [
      "Ramíro es un buen alumno.\n",
      "Ramíro entrega a tiempo su tarea\n",
      "Marco es un buen alumno.\n",
      "Marco entrega a tiempo su tarea\n",
      "Juan es un buen alumno.\n",
      "Juan entrega a tiempo su tarea\n"
     ]
    }
   ],
   "source": [
    "alumnos=[\"Ramíro\",\"Marco\",\"Juan\"]\n",
    "\n",
    "for alumno in alumnos:\n",
    "    print(f\"{alumno} es un buen alumno.\")\n",
    "    print(alumno+\" entrega a tiempo su tarea.\")"
   ]
  },
  {
   "cell_type": "code",
   "execution_count": 19,
   "id": "8eb9afc6",
   "metadata": {},
   "outputs": [
    {
     "name": "stdout",
     "output_type": "stream",
     "text": [
      "R\n",
      "a\n",
      "f\n",
      "a\n"
     ]
    }
   ],
   "source": [
    "nombre=\"Rafa\"\n",
    "\n",
    "for letter in nombre:\n",
    "    print(letter)"
   ]
  },
  {
   "cell_type": "markdown",
   "id": "929aced8",
   "metadata": {},
   "source": [
    "### Ejercicio C2.2: "
   ]
  },
  {
   "cell_type": "code",
   "execution_count": 118,
   "id": "72093057",
   "metadata": {},
   "outputs": [
    {
     "name": "stdout",
     "output_type": "stream",
     "text": [
      "-\n",
      "--\n",
      "---\n",
      "----\n",
      "-----\n"
     ]
    }
   ],
   "source": [
    "# Ejercicio: Imprimir guiones de tal forma \n",
    "# que en el primer renglón de arriba a abajo haya 1, en el segundo renglón, haya 2, así hasta 5\n",
    "for i in range(5):\n",
    "        #print('-'+'-'*i)\n",
    "        print('-'*(i+1))"
   ]
  },
  {
   "cell_type": "code",
   "execution_count": 114,
   "id": "a1041b05",
   "metadata": {},
   "outputs": [
    {
     "name": "stdout",
     "output_type": "stream",
     "text": [
      "i:0,j:0\n",
      "i:0,j:1\n",
      "i:0,j:2\n",
      "i:1,j:0\n",
      "i:1,j:1\n",
      "i:1,j:2\n",
      "i:2,j:0\n",
      "i:2,j:1\n",
      "i:2,j:2\n"
     ]
    }
   ],
   "source": [
    "# loops anidados\n",
    "\n",
    "for i in range(3):\n",
    "    for j in range(3):\n",
    "        print(f\"i:{i},j:{j}\")"
   ]
  },
  {
   "cell_type": "markdown",
   "id": "a542b632",
   "metadata": {},
   "source": [
    "# if-elif-else"
   ]
  },
  {
   "cell_type": "code",
   "execution_count": 6,
   "id": "9b2c33c5",
   "metadata": {},
   "outputs": [
    {
     "name": "stdout",
     "output_type": "stream",
     "text": [
      "5 mayor a 4\n"
     ]
    }
   ],
   "source": [
    "a=5\n",
    "b=4\n",
    "\n",
    "if a<b:\n",
    "    print(f\"{a} menor que {b}\")\n",
    "elif a>b:\n",
    "    print(f\"{a} mayor a {b}\")\n",
    "else:\n",
    "    print(\"Por la tricotomía de los números, a es igual a b\")"
   ]
  },
  {
   "cell_type": "code",
   "execution_count": 11,
   "id": "b34acc51",
   "metadata": {},
   "outputs": [
    {
     "name": "stdout",
     "output_type": "stream",
     "text": [
      "dime tu edad: 21\n",
      "Eres mayor de edad\n"
     ]
    }
   ],
   "source": [
    "edad=input(\"dime tu edad: \")\n",
    "\n",
    "\n",
    "\n",
    "if edad<18:\n",
    "    print(\"Eres menor de edad\")\n",
    "else:\n",
    "    print(\"Eres mayor de edad\")"
   ]
  },
  {
   "cell_type": "markdown",
   "id": "f975f868",
   "metadata": {},
   "source": [
    "# While & Do while\n"
   ]
  },
  {
   "cell_type": "markdown",
   "id": "36faa713",
   "metadata": {},
   "source": [
    "# Funciones\n",
    "\n",
    "\n",
    "Input -> process -> output\n",
    "\n",
    "También puede verse como una receta de cocina, es una guía estructurada de instrucciones que realizarán un proceso y nos darán un resultado.\n",
    "\n"
   ]
  },
  {
   "cell_type": "markdown",
   "id": "0a45d2f7",
   "metadata": {},
   "source": [
    "### Ejercicio C2.4\n",
    "\n",
    "Utiliza el comando <strong>if</strong> para poner validaciones, es decir, la calificación no puede ser menor a cero o mayor a 10."
   ]
  },
  {
   "cell_type": "markdown",
   "id": "bf395298",
   "metadata": {},
   "source": [
    "### Ejercicio C3.1\n",
    "\n",
    "Hacer una función que calcule el índice de masa corporal (IMC) siguiendo las indicaciones de esta página [link](https://www.texasheart.org/heart-health/heart-information-center/topics/calculadora-del-indice-de-masa-corporal-imc/) y de acuerdo al índice de imprimir el estado del paciente.\n",
    "\n"
   ]
  }
 ],
 "metadata": {
  "kernelspec": {
   "display_name": "Python 3 (ipykernel)",
   "language": "python",
   "name": "python3"
  },
  "language_info": {
   "codemirror_mode": {
    "name": "ipython",
    "version": 3
   },
   "file_extension": ".py",
   "mimetype": "text/x-python",
   "name": "python",
   "nbconvert_exporter": "python",
   "pygments_lexer": "ipython3",
   "version": "3.9.12"
  }
 },
 "nbformat": 4,
 "nbformat_minor": 5
}
